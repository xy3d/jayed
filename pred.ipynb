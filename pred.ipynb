{
 "cells": [
  {
   "cell_type": "code",
   "execution_count": 2,
   "metadata": {},
   "outputs": [],
   "source": [
    "import pandas as pd\n",
    "\n",
    "# Load the dataset\n",
    "data = pd.read_csv('data\\jobPlace.csv')\n",
    "\n",
    "# Define the mapping dictionaries\n",
    "gender_mapping = {\n",
    "    'Male': 0,\n",
    "    'Female': 1\n",
    "}\n",
    "\n",
    "stream_mapping = {\n",
    "    'Computer Science': 0,\n",
    "    'Information Technology': 1,\n",
    "    'Electrical': 2,\n",
    "    'Electronics And Communication': 3,\n",
    "    'Mechanical': 4,\n",
    "    'Civil': 5\n",
    "}\n",
    "\n",
    "# Apply the mappings to the respective columns\n",
    "data['Gender'] = data['Gender'].map(gender_mapping)\n",
    "data['Stream'] = data['Stream'].map(stream_mapping)\n",
    "\n",
    "# Save the updated dataset\n",
    "data.to_csv('data\\jobPlace_td.csv', index=False)\n"
   ]
  },
  {
   "cell_type": "code",
   "execution_count": 1,
   "metadata": {},
   "outputs": [
    {
     "name": "stdout",
     "output_type": "stream",
     "text": [
      "Age\n",
      "19     92\n",
      "20    199\n",
      "21    617\n",
      "22    478\n",
      "23     85\n",
      "24    104\n",
      "25     22\n",
      "26     37\n",
      "28      3\n",
      "29      1\n",
      "30      1\n",
      "Name: PlacedOrNot, dtype: int64\n",
      "Gender\n",
      "0    1364\n",
      "1     275\n",
      "Name: PlacedOrNot, dtype: int64\n",
      "Stream\n",
      "0    452\n",
      "1    409\n",
      "2    181\n",
      "3    251\n",
      "4    200\n",
      "5    146\n",
      "Name: PlacedOrNot, dtype: int64\n",
      "Internships\n",
      "0    654\n",
      "1    662\n",
      "2    282\n",
      "3     41\n",
      "Name: PlacedOrNot, dtype: int64\n",
      "CGPA\n",
      "5      7\n",
      "6    270\n",
      "7    282\n",
      "8    915\n",
      "9    165\n",
      "Name: PlacedOrNot, dtype: int64\n",
      "Hostel\n",
      "0    1223\n",
      "1     416\n",
      "Name: PlacedOrNot, dtype: int64\n",
      "HistoryOfBacklogs\n",
      "0    1337\n",
      "1     302\n",
      "Name: PlacedOrNot, dtype: int64\n"
     ]
    }
   ],
   "source": [
    "import pandas as pd\n",
    "\n",
    "# Load the CSV file\n",
    "data = pd.read_csv('data\\jobPlace_td.csv')\n",
    "\n",
    "# Print count of 'Placed' for each category\n",
    "print(data.groupby('Age')['PlacedOrNot'].sum())\n",
    "print(data.groupby('Gender')['PlacedOrNot'].sum())\n",
    "print(data.groupby('Stream')['PlacedOrNot'].sum())\n",
    "print(data.groupby('Internships')['PlacedOrNot'].sum())\n",
    "print(data.groupby('CGPA')['PlacedOrNot'].sum())\n",
    "print(data.groupby('Hostel')['PlacedOrNot'].sum())\n",
    "print(data.groupby('HistoryOfBacklogs')['PlacedOrNot'].sum())\n"
   ]
  },
  {
   "attachments": {},
   "cell_type": "markdown",
   "metadata": {},
   "source": [
    "**GradientBoostingClassifier**"
   ]
  },
  {
   "cell_type": "code",
   "execution_count": 2,
   "metadata": {},
   "outputs": [
    {
     "name": "stdout",
     "output_type": "stream",
     "text": [
      "Candidate Should Be Placed!! [Probability: 99.77%]\n",
      "Given Inputs:\n",
      "Age: 21\n",
      "Gender: 0\n",
      "Stream: 0\n",
      "Internship: 1\n",
      "CGPA: 8\n",
      "Hostel: 0\n",
      "History of Backlogs: 0\n"
     ]
    },
    {
     "name": "stderr",
     "output_type": "stream",
     "text": [
      "c:\\Users\\jayed\\Documents\\jayed\\.venv\\Lib\\site-packages\\sklearn\\base.py:439: UserWarning: X does not have valid feature names, but GradientBoostingClassifier was fitted with feature names\n",
      "  warnings.warn(\n",
      "c:\\Users\\jayed\\Documents\\jayed\\.venv\\Lib\\site-packages\\sklearn\\base.py:439: UserWarning: X does not have valid feature names, but GradientBoostingClassifier was fitted with feature names\n",
      "  warnings.warn(\n"
     ]
    }
   ],
   "source": [
    "import pandas as pd\n",
    "from sklearn.model_selection import train_test_split\n",
    "from sklearn.ensemble import GradientBoostingClassifier\n",
    "from sklearn.preprocessing import LabelEncoder\n",
    "\n",
    "# Load the CSV file\n",
    "data = pd.read_csv('/content/jobPlace_td.csv')\n",
    "\n",
    "# Separate features (X) and target variable (y)\n",
    "X = data.drop('PlacedOrNot', axis=1)\n",
    "y = data['PlacedOrNot']\n",
    "\n",
    "# Split the data into training and testing sets\n",
    "X_train, X_test, y_train, y_test = train_test_split(X, y, test_size=0.2, random_state=42)\n",
    "\n",
    "# Train a Gradient Boosting classifier\n",
    "model = GradientBoostingClassifier()\n",
    "model.fit(X_train, y_train)\n",
    "\n",
    "# Function to preprocess user input\n",
    "def preprocess_input(Age,Gender,Stream,Internships,CGPA,Hostel,HistoryOfBacklogs):\n",
    "    return Age,Gender,Stream,Internships,CGPA,Hostel,HistoryOfBacklogs\n",
    "\n",
    "# Function to predict placement based on user input\n",
    "def predict_placement(Age,Gender,Stream,Internships,CGPA,Hostel,HistoryOfBacklogs):\n",
    "    input_data = preprocess_input(Age,Gender,Stream,Internships,CGPA,Hostel,HistoryOfBacklogs)\n",
    "    prediction = model.predict([input_data])\n",
    "    probability = model.predict_proba([input_data])[0]\n",
    "    if prediction[0] == 1:\n",
    "        return \"Candidate Should Be Placed!!\", probability[1]\n",
    "    else:1\n",
    "    return \"Candidate Should Not Be Placed!!\", probability[0]\n",
    "\n",
    "# User Inputs\n",
    "Age = input(\"Enter Age: \")\n",
    "Gender = input(\"Enter Gender: \")\n",
    "Stream = input(\"Enter Stream: \")\n",
    "Internships = input(\"Enter Internship: \")\n",
    "CGPA = input(\"Enter CGPA: \")\n",
    "Hostel = input(\"Enter Hostel: \")\n",
    "HistoryOfBacklogs = input(\"Enter History of Backlogs: \")\n",
    "\n",
    "result, probability = predict_placement(Age,Gender,Stream,Internships,CGPA,Hostel,HistoryOfBacklogs)\n",
    "print(result, \"[Probability: {:.2f}%]\".format(probability * 100))\n",
    "\n",
    "print(\"Given Inputs:\")\n",
    "print(\"Age:\", Age)\n",
    "print(\"Gender:\", Gender)\n",
    "print(\"Stream:\", Stream)\n",
    "print(\"Internship:\", Internships)\n",
    "print(\"CGPA:\", CGPA)\n",
    "print(\"Hostel:\", Hostel)\n",
    "print(\"History of Backlogs:\", HistoryOfBacklogs)\n",
    "\n"
   ]
  },
  {
   "attachments": {},
   "cell_type": "markdown",
   "metadata": {},
   "source": [
    "**Importance**"
   ]
  },
  {
   "cell_type": "code",
   "execution_count": 3,
   "metadata": {},
   "outputs": [
    {
     "name": "stdout",
     "output_type": "stream",
     "text": [
      "             Feature  Importance\n",
      "0             Gender    0.000881\n",
      "1             Hostel    0.001110\n",
      "2  HistoryOfBacklogs    0.015371\n",
      "3             Stream    0.034360\n",
      "4                Age    0.079456\n",
      "5        Internships    0.097472\n",
      "6               CGPA    0.771350\n"
     ]
    },
    {
     "data": {
      "image/png": "[encoded data removed]",
      "text/plain": [
       "<Figure size 600x400 with 1 Axes>"
      ]
     },
     "metadata": {},
     "output_type": "display_data"
    }
   ],
   "source": [
    "import pandas as pd\n",
    "import matplotlib.pyplot as plt\n",
    "from sklearn.model_selection import train_test_split\n",
    "\n",
    "# Models ------------------------------------------\n",
    "from sklearn.ensemble import RandomForestClassifier\n",
    "from sklearn.preprocessing import LabelEncoder\n",
    "from sklearn.linear_model import LogisticRegression\n",
    "from sklearn.tree import DecisionTreeClassifier\n",
    "from sklearn.svm import SVC\n",
    "from sklearn.ensemble import GradientBoostingClassifier\n",
    "from sklearn.neural_network import MLPClassifier\n",
    "\n",
    "# Load the CSV file\n",
    "data = pd.read_csv('data/jobPlace_td.csv')\n",
    "\n",
    "# Separate features (X) and target variable (y)\n",
    "X = data.drop('PlacedOrNot', axis=1)\n",
    "y = data['PlacedOrNot']\n",
    "\n",
    "# Split the data into training and testing sets\n",
    "X_train, X_test, y_train, y_test = train_test_split(X, y, test_size=0.2, random_state=42)\n",
    "\n",
    "# Train a Random Forest classifier\n",
    "# model = RandomForestClassifier()\n",
    "# model = LogisticRegression()\n",
    "# model = DecisionTreeClassifier()\n",
    "# model = SVC()\n",
    "model = GradientBoostingClassifier()\n",
    "# model = MLPClassifier()\n",
    "\n",
    "model.fit(X_train, y_train)\n",
    "\n",
    "# Retrieve feature importances\n",
    "importances = model.feature_importances_\n",
    "\n",
    "# Create a DataFrame to store feature importances\n",
    "feature_importances = pd.DataFrame({'Feature': X.columns, 'Importance': importances})\n",
    "feature_importances = feature_importances.sort_values('Importance', ascending=True).reset_index(drop=True)\n",
    "print(feature_importances)\n",
    "\n",
    "# Plot the feature importances\n",
    "plt.figure(figsize=(6, 4))\n",
    "plt.barh(feature_importances['Feature'], feature_importances['Importance'])\n",
    "plt.xlabel('Importance')\n",
    "plt.ylabel('Feature')\n",
    "plt.title('Feature Importances')\n",
    "plt.show()\n"
   ]
  },
  {
   "attachments": {},
   "cell_type": "markdown",
   "metadata": {},
   "source": [
    "\n",
    "**MLP**\n"
   ]
  },
  {
   "cell_type": "code",
   "execution_count": 26,
   "metadata": {},
   "outputs": [
    {
     "name": "stdout",
     "output_type": "stream",
     "text": [
      "Candidate Should Be Placed!! [Probability: 99.88%]\n",
      "Given Inputs:\n",
      "Age: 21\n",
      "Gender: 1\n",
      "Stream: 1\n",
      "Internship: 0\n",
      "CGPA: 8\n",
      "Hostel: 1\n",
      "History of Backlogs: 1\n"
     ]
    },
    {
     "name": "stderr",
     "output_type": "stream",
     "text": [
      "c:\\Users\\jayed\\Documents\\jayed\\.venv\\Lib\\site-packages\\sklearn\\base.py:439: UserWarning: X does not have valid feature names, but MLPClassifier was fitted with feature names\n",
      "  warnings.warn(\n",
      "c:\\Users\\jayed\\Documents\\jayed\\.venv\\Lib\\site-packages\\sklearn\\base.py:439: UserWarning: X does not have valid feature names, but MLPClassifier was fitted with feature names\n",
      "  warnings.warn(\n"
     ]
    }
   ],
   "source": [
    "import pandas as pd\n",
    "from sklearn.model_selection import train_test_split\n",
    "from sklearn.neural_network import MLPClassifier\n",
    "from sklearn.preprocessing import LabelEncoder\n",
    "\n",
    "# Load the CSV file\n",
    "data = pd.read_csv('data\\jobPlace_td.csv')\n",
    "\n",
    "# Separate features (X) and target variable (y)\n",
    "X = data.drop('PlacedOrNot', axis=1)\n",
    "y = data['PlacedOrNot']\n",
    "\n",
    "# Split the data into training and testing sets\n",
    "X_train, X_test, y_train, y_test = train_test_split(X, y, test_size=0.2, random_state=42)\n",
    "\n",
    "# Train an Artificial Neural Network classifier\n",
    "model = MLPClassifier(hidden_layer_sizes=(1000, 1000), random_state=42)\n",
    "model.fit(X_train, y_train)\n",
    "\n",
    "# Function to preprocess user input\n",
    "def preprocess_input(age, gender, stream, internships, cgpa, hostel, backlogs):\n",
    "    return age, gender, stream, internships, cgpa, hostel, backlogs\n",
    "\n",
    "# Function to predict placement based on user input\n",
    "def predict_placement(age, gender, stream, internships, cgpa, hostel, backlogs):\n",
    "    input_data = preprocess_input(age, gender, stream, internships, cgpa, hostel, backlogs)\n",
    "    input_data = [int(i) if isinstance(i, str) else i for i in input_data]  # Convert to integers if input is string\n",
    "    prediction = model.predict([input_data])\n",
    "    probability = model.predict_proba([input_data])[0]\n",
    "    if prediction[0] == 1:\n",
    "        return \"Candidate Should Be Placed!!\", probability[1]\n",
    "    else:\n",
    "        return \"Candidate Should Not Be Placed!!\", probability[0]\n",
    "\n",
    "# User Inputs\n",
    "age = input(\"Enter Age: \")\n",
    "gender = input(\"Enter Gender: \")\n",
    "stream = input(\"Enter Stream: \")\n",
    "internships = input(\"Enter Internship: \")\n",
    "cgpa = input(\"Enter CGPA: \")\n",
    "hostel = input(\"Enter Hostel: \")\n",
    "backlogs = input(\"Enter History of Backlogs: \")\n",
    "\n",
    "result, probability = predict_placement(age, gender, stream, internships, cgpa, hostel, backlogs)\n",
    "print(result, \"[Probability: {:.2f}%]\".format(probability * 100))\n",
    "\n",
    "print(\"Given Inputs:\")\n",
    "print(\"Age:\", age)\n",
    "print(\"Gender:\", gender)\n",
    "print(\"Stream:\", stream)\n",
    "print(\"Internship:\", internships)\n",
    "print(\"CGPA:\", cgpa)\n",
    "print(\"Hostel:\", hostel)\n",
    "print(\"History of Backlogs:\", backlogs)\n"
   ]
  },
  {
   "attachments": {},
   "cell_type": "markdown",
   "metadata": {},
   "source": [
    "**Unique**"
   ]
  },
  {
   "cell_type": "code",
   "execution_count": 14,
   "metadata": {},
   "outputs": [
    {
     "name": "stdout",
     "output_type": "stream",
     "text": [
      "Unique values in Age: [22 21 23 24 28 30 25 26 20 19 29]\n",
      "Unique values in Gender: [0 1]\n",
      "Unique values in Stream: [3 0 1 4 2 5]\n",
      "Unique values in Internships: [1 0 2 3]\n",
      "Unique values in CGPA: [8 7 6 9 5]\n",
      "Unique values in Hostel: [1 0]\n",
      "Unique values in HistoryOfBacklogs: [1 0]\n",
      "Unique values in PlacedOrNot: [1 0]\n"
     ]
    }
   ],
   "source": [
    "import pandas as pd\n",
    "\n",
    "# Load the CSV file\n",
    "data = pd.read_csv('data\\jobPlace_td.csv')\n",
    "\n",
    "# Convert columns to numeric\n",
    "data['Age'] = pd.to_numeric(data['Age'], errors='coerce')\n",
    "data['Gender'] = pd.to_numeric(data['Gender'], errors='coerce')\n",
    "data['Stream'] = pd.to_numeric(data['Stream'], errors='coerce')\n",
    "data['Internships'] = pd.to_numeric(data['Internships'], errors='coerce')\n",
    "data['CGPA'] = pd.to_numeric(data['CGPA'], errors='coerce')\n",
    "data['Hostel'] = pd.to_numeric(data['Hostel'], errors='coerce')\n",
    "data['HistoryOfBacklogs'] = pd.to_numeric(data['HistoryOfBacklogs'], errors='coerce')\n",
    "data['PlacedOrNot'] = pd.to_numeric(data['PlacedOrNot'], errors='coerce')\n",
    "\n",
    "# Check unique values in each column\n",
    "for column in data.columns:\n",
    "    unique_values = data[column].unique()\n",
    "    print(f\"Unique values in {column}: {unique_values}\")\n"
   ]
  }
 ],
 "metadata": {
  "kernelspec": {
   "display_name": ".venv",
   "language": "python",
   "name": "python3"
  },
  "language_info": {
   "codemirror_mode": {
    "name": "ipython",
    "version": 3
   },
   "file_extension": ".py",
   "mimetype": "text/x-python",
   "name": "python",
   "nbconvert_exporter": "python",
   "pygments_lexer": "ipython3",
   "version": "3.11.3"
  },
  "orig_nbformat": 4
 },
 "nbformat": 4,
 "nbformat_minor": 2
}
